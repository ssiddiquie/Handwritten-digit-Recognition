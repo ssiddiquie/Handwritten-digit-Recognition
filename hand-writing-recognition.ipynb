{
 "cells": [
  {
   "cell_type": "code",
   "execution_count": 1,
   "id": "7cdd320e",
   "metadata": {
    "_cell_guid": "b1076dfc-b9ad-4769-8c92-a6c4dae69d19",
    "_uuid": "8f2839f25d086af736a60e9eeb907d3b93b6e0e5",
    "execution": {
     "iopub.execute_input": "2023-11-13T11:29:36.341060Z",
     "iopub.status.busy": "2023-11-13T11:29:36.340711Z",
     "iopub.status.idle": "2023-11-13T11:29:39.979144Z",
     "shell.execute_reply": "2023-11-13T11:29:39.978134Z"
    },
    "papermill": {
     "duration": 3.64621,
     "end_time": "2023-11-13T11:29:39.981496",
     "exception": false,
     "start_time": "2023-11-13T11:29:36.335286",
     "status": "completed"
    },
    "tags": []
   },
   "outputs": [],
   "source": [
    "import torch\n",
    "from torchvision import datasets\n",
    "from torchvision.transforms import ToTensor\n",
    "import torch.nn as nn\n",
    "import torch.nn.functional as F\n",
    "import torch.optim as optim\n",
    "from torch.utils.data import DataLoader\n",
    "import random"
   ]
  },
  {
   "cell_type": "code",
   "execution_count": 2,
   "id": "52ba0992",
   "metadata": {
    "execution": {
     "iopub.execute_input": "2023-11-13T11:29:39.991229Z",
     "iopub.status.busy": "2023-11-13T11:29:39.990840Z",
     "iopub.status.idle": "2023-11-13T11:29:40.905559Z",
     "shell.execute_reply": "2023-11-13T11:29:40.904685Z"
    },
    "papermill": {
     "duration": 0.921608,
     "end_time": "2023-11-13T11:29:40.907616",
     "exception": false,
     "start_time": "2023-11-13T11:29:39.986008",
     "status": "completed"
    },
    "tags": []
   },
   "outputs": [
    {
     "name": "stdout",
     "output_type": "stream",
     "text": [
      "Downloading http://yann.lecun.com/exdb/mnist/train-images-idx3-ubyte.gz\n",
      "Downloading http://yann.lecun.com/exdb/mnist/train-images-idx3-ubyte.gz to data/MNIST/raw/train-images-idx3-ubyte.gz\n"
     ]
    },
    {
     "name": "stderr",
     "output_type": "stream",
     "text": [
      "100%|██████████| 9912422/9912422 [00:00<00:00, 162298613.58it/s]"
     ]
    },
    {
     "name": "stdout",
     "output_type": "stream",
     "text": [
      "Extracting data/MNIST/raw/train-images-idx3-ubyte.gz to data/MNIST/raw\n"
     ]
    },
    {
     "name": "stderr",
     "output_type": "stream",
     "text": [
      "\n"
     ]
    },
    {
     "name": "stdout",
     "output_type": "stream",
     "text": [
      "\n",
      "Downloading http://yann.lecun.com/exdb/mnist/train-labels-idx1-ubyte.gz\n",
      "Downloading http://yann.lecun.com/exdb/mnist/train-labels-idx1-ubyte.gz to data/MNIST/raw/train-labels-idx1-ubyte.gz\n"
     ]
    },
    {
     "name": "stderr",
     "output_type": "stream",
     "text": [
      "100%|██████████| 28881/28881 [00:00<00:00, 48629343.16it/s]\n"
     ]
    },
    {
     "name": "stdout",
     "output_type": "stream",
     "text": [
      "Extracting data/MNIST/raw/train-labels-idx1-ubyte.gz to data/MNIST/raw\n",
      "\n",
      "Downloading http://yann.lecun.com/exdb/mnist/t10k-images-idx3-ubyte.gz\n",
      "Downloading http://yann.lecun.com/exdb/mnist/t10k-images-idx3-ubyte.gz to data/MNIST/raw/t10k-images-idx3-ubyte.gz\n"
     ]
    },
    {
     "name": "stderr",
     "output_type": "stream",
     "text": [
      "100%|██████████| 1648877/1648877 [00:00<00:00, 29716500.29it/s]\n"
     ]
    },
    {
     "name": "stdout",
     "output_type": "stream",
     "text": [
      "Extracting data/MNIST/raw/t10k-images-idx3-ubyte.gz to data/MNIST/raw\n",
      "\n",
      "Downloading http://yann.lecun.com/exdb/mnist/t10k-labels-idx1-ubyte.gz\n",
      "Downloading http://yann.lecun.com/exdb/mnist/t10k-labels-idx1-ubyte.gz to data/MNIST/raw/t10k-labels-idx1-ubyte.gz\n"
     ]
    },
    {
     "name": "stderr",
     "output_type": "stream",
     "text": [
      "100%|██████████| 4542/4542 [00:00<00:00, 23606603.18it/s]\n"
     ]
    },
    {
     "name": "stdout",
     "output_type": "stream",
     "text": [
      "Extracting data/MNIST/raw/t10k-labels-idx1-ubyte.gz to data/MNIST/raw\n",
      "\n"
     ]
    }
   ],
   "source": [
    "train_d = datasets.MNIST(root= 'data',train=True,transform=ToTensor(),download=True)\n",
    "test_d = datasets.MNIST(root= 'data',train=False,transform=ToTensor(),download=True)"
   ]
  },
  {
   "cell_type": "code",
   "execution_count": 3,
   "id": "4e8ac3c2",
   "metadata": {
    "execution": {
     "iopub.execute_input": "2023-11-13T11:29:40.919286Z",
     "iopub.status.busy": "2023-11-13T11:29:40.918997Z",
     "iopub.status.idle": "2023-11-13T11:29:40.925244Z",
     "shell.execute_reply": "2023-11-13T11:29:40.924410Z"
    },
    "papermill": {
     "duration": 0.014132,
     "end_time": "2023-11-13T11:29:40.927190",
     "exception": false,
     "start_time": "2023-11-13T11:29:40.913058",
     "status": "completed"
    },
    "tags": []
   },
   "outputs": [
    {
     "data": {
      "text/plain": [
       "torch.Size([60000, 28, 28])"
      ]
     },
     "execution_count": 3,
     "metadata": {},
     "output_type": "execute_result"
    }
   ],
   "source": [
    "train_d.data.shape"
   ]
  },
  {
   "cell_type": "code",
   "execution_count": 4,
   "id": "40e7dc90",
   "metadata": {
    "execution": {
     "iopub.execute_input": "2023-11-13T11:29:40.938740Z",
     "iopub.status.busy": "2023-11-13T11:29:40.938442Z",
     "iopub.status.idle": "2023-11-13T11:29:40.943985Z",
     "shell.execute_reply": "2023-11-13T11:29:40.943076Z"
    },
    "papermill": {
     "duration": 0.013509,
     "end_time": "2023-11-13T11:29:40.945930",
     "exception": false,
     "start_time": "2023-11-13T11:29:40.932421",
     "status": "completed"
    },
    "tags": []
   },
   "outputs": [
    {
     "data": {
      "text/plain": [
       "torch.Size([10000, 28, 28])"
      ]
     },
     "execution_count": 4,
     "metadata": {},
     "output_type": "execute_result"
    }
   ],
   "source": [
    "test_d.data.shape"
   ]
  },
  {
   "cell_type": "code",
   "execution_count": 5,
   "id": "a64ec94f",
   "metadata": {
    "execution": {
     "iopub.execute_input": "2023-11-13T11:29:40.957387Z",
     "iopub.status.busy": "2023-11-13T11:29:40.957130Z",
     "iopub.status.idle": "2023-11-13T11:29:40.984811Z",
     "shell.execute_reply": "2023-11-13T11:29:40.983828Z"
    },
    "papermill": {
     "duration": 0.035548,
     "end_time": "2023-11-13T11:29:40.986737",
     "exception": false,
     "start_time": "2023-11-13T11:29:40.951189",
     "status": "completed"
    },
    "tags": []
   },
   "outputs": [
    {
     "data": {
      "text/plain": [
       "tensor([5, 0, 4,  ..., 5, 6, 8])"
      ]
     },
     "execution_count": 5,
     "metadata": {},
     "output_type": "execute_result"
    }
   ],
   "source": [
    "train_d.targets"
   ]
  },
  {
   "cell_type": "code",
   "execution_count": 6,
   "id": "71d46abc",
   "metadata": {
    "execution": {
     "iopub.execute_input": "2023-11-13T11:29:40.998885Z",
     "iopub.status.busy": "2023-11-13T11:29:40.998592Z",
     "iopub.status.idle": "2023-11-13T11:29:41.003487Z",
     "shell.execute_reply": "2023-11-13T11:29:41.002589Z"
    },
    "papermill": {
     "duration": 0.01313,
     "end_time": "2023-11-13T11:29:41.005360",
     "exception": false,
     "start_time": "2023-11-13T11:29:40.992230",
     "status": "completed"
    },
    "tags": []
   },
   "outputs": [],
   "source": [
    "\n",
    "loaders={'train': DataLoader(train_d,\n",
    "                             batch_size=100,\n",
    "                             shuffle=True,\n",
    "                             num_workers=1),\n",
    "            'test': DataLoader(test_d,\n",
    "                            batch_size=100,\n",
    "                            shuffle=True,\n",
    "                            num_workers=1)}"
   ]
  },
  {
   "cell_type": "code",
   "execution_count": 7,
   "id": "7e5322f0",
   "metadata": {
    "execution": {
     "iopub.execute_input": "2023-11-13T11:29:41.017386Z",
     "iopub.status.busy": "2023-11-13T11:29:41.017099Z",
     "iopub.status.idle": "2023-11-13T11:29:41.022451Z",
     "shell.execute_reply": "2023-11-13T11:29:41.021555Z"
    },
    "papermill": {
     "duration": 0.013596,
     "end_time": "2023-11-13T11:29:41.024364",
     "exception": false,
     "start_time": "2023-11-13T11:29:41.010768",
     "status": "completed"
    },
    "tags": []
   },
   "outputs": [
    {
     "data": {
      "text/plain": [
       "{'train': <torch.utils.data.dataloader.DataLoader at 0x7f10523fbcd0>,\n",
       " 'test': <torch.utils.data.dataloader.DataLoader at 0x7f10522299f0>}"
      ]
     },
     "execution_count": 7,
     "metadata": {},
     "output_type": "execute_result"
    }
   ],
   "source": [
    "loaders"
   ]
  },
  {
   "cell_type": "code",
   "execution_count": 8,
   "id": "2e19b05a",
   "metadata": {
    "execution": {
     "iopub.execute_input": "2023-11-13T11:29:41.036525Z",
     "iopub.status.busy": "2023-11-13T11:29:41.036278Z",
     "iopub.status.idle": "2023-11-13T11:29:41.043555Z",
     "shell.execute_reply": "2023-11-13T11:29:41.042734Z"
    },
    "papermill": {
     "duration": 0.015448,
     "end_time": "2023-11-13T11:29:41.045453",
     "exception": false,
     "start_time": "2023-11-13T11:29:41.030005",
     "status": "completed"
    },
    "tags": []
   },
   "outputs": [],
   "source": [
    "class NN(nn.Module):\n",
    "    def __init__(self):\n",
    "            super(NN, self).__init__()\n",
    "            self.conv1 = nn.Conv2d(1,10, kernel_size=5)\n",
    "            self.conv2 = nn.Conv2d(10,20, kernel_size=5)\n",
    "            self.conv2_drop =nn.Dropout2d()\n",
    "            self.fc1= nn.Linear(320,50)\n",
    "            self.fc2=nn.Linear(50,10)\n",
    "    def forward(self,x):\n",
    "        x=F.relu(F.max_pool2d(self.conv1(x),2))\n",
    "        x=F.relu(F.max_pool2d(self.conv2_drop(self.conv2(x)),2))\n",
    "        x= x.view(-1,320)\n",
    "        x=F.relu(self.fc1(x))\n",
    "        x=F.dropout(x,training =self.training)\n",
    "        x=self.fc2(x)\n",
    "        return F.softmax(x)\n",
    "                 \n",
    "        "
   ]
  },
  {
   "cell_type": "code",
   "execution_count": 9,
   "id": "0af40f42",
   "metadata": {
    "execution": {
     "iopub.execute_input": "2023-11-13T11:29:41.057592Z",
     "iopub.status.busy": "2023-11-13T11:29:41.057325Z",
     "iopub.status.idle": "2023-11-13T11:29:43.986110Z",
     "shell.execute_reply": "2023-11-13T11:29:43.985191Z"
    },
    "papermill": {
     "duration": 2.93742,
     "end_time": "2023-11-13T11:29:43.988421",
     "exception": false,
     "start_time": "2023-11-13T11:29:41.051001",
     "status": "completed"
    },
    "tags": []
   },
   "outputs": [],
   "source": [
    "device = torch.device('cuda' if torch.cuda.is_available() else 'cpu')\n",
    "model = NN().to(device)\n",
    "optimizer = optim.Adam(model.parameters(), lr=0.01)\n",
    "loss_fn = nn.CrossEntropyLoss()\n",
    "\n",
    "def train(epoch):\n",
    "    model.train()\n",
    "    for batch_idx, (data, target) in enumerate(loaders['train']):\n",
    "        data, target = data.to(device), target.to(device)\n",
    "        optimizer.zero_grad()\n",
    "        output = model(data)\n",
    "        loss = loss_fn(output, target)\n",
    "        loss.backward()\n",
    "        optimizer.step()\n",
    "        if batch_idx % 20 == 0:\n",
    "            print(f'Train Epoch: {epoch} [{batch_idx * len(data)}/{len(loaders[\"train\"].dataset)} ({100. * batch_idx / len(loaders[\"train\"]):.0f}%)]\\t{loss.item():.6f}')\n",
    "\n",
    "def test():\n",
    "    model.eval()\n",
    "    test_loss = 0\n",
    "    correct = 0\n",
    "    with torch.no_grad():\n",
    "        for data, target in loaders['test']:\n",
    "            data, target = data.to(device), target.to(device)\n",
    "            output = model(data)\n",
    "            test_loss += loss_fn(output, target).item()\n",
    "            pred = output.argmax(dim=1, keepdim=True)\n",
    "            correct += pred.eq(target.view_as(pred)).sum().item()\n",
    "\n",
    "    test_loss /= len(loaders['test'].dataset)\n",
    "    print(f'\\nTest set: Average loss: {test_loss:.4f}, Accuracy: {correct}/{len(loaders[\"test\"].dataset)} ({100. * correct / len(loaders[\"test\"].dataset):.0f}%)\\n')\n"
   ]
  },
  {
   "cell_type": "code",
   "execution_count": 10,
   "id": "3ba3dc58",
   "metadata": {
    "execution": {
     "iopub.execute_input": "2023-11-13T11:29:44.001219Z",
     "iopub.status.busy": "2023-11-13T11:29:44.000929Z",
     "iopub.status.idle": "2023-11-13T11:31:24.849219Z",
     "shell.execute_reply": "2023-11-13T11:31:24.848018Z"
    },
    "papermill": {
     "duration": 100.857109,
     "end_time": "2023-11-13T11:31:24.851435",
     "exception": false,
     "start_time": "2023-11-13T11:29:43.994326",
     "status": "completed"
    },
    "tags": []
   },
   "outputs": [
    {
     "name": "stderr",
     "output_type": "stream",
     "text": [
      "/tmp/ipykernel_27/949544416.py:16: UserWarning: Implicit dimension choice for softmax has been deprecated. Change the call to include dim=X as an argument.\n",
      "  return F.softmax(x)\n"
     ]
    },
    {
     "name": "stdout",
     "output_type": "stream",
     "text": [
      "Train Epoch: 1 [0/60000 (0%)]\t2.302773\n",
      "Train Epoch: 1 [2000/60000 (3%)]\t2.080512\n",
      "Train Epoch: 1 [4000/60000 (7%)]\t2.083523\n",
      "Train Epoch: 1 [6000/60000 (10%)]\t2.018705\n",
      "Train Epoch: 1 [8000/60000 (13%)]\t1.936388\n",
      "Train Epoch: 1 [10000/60000 (17%)]\t1.776307\n",
      "Train Epoch: 1 [12000/60000 (20%)]\t1.849067\n",
      "Train Epoch: 1 [14000/60000 (23%)]\t1.741395\n",
      "Train Epoch: 1 [16000/60000 (27%)]\t1.813480\n",
      "Train Epoch: 1 [18000/60000 (30%)]\t1.744793\n",
      "Train Epoch: 1 [20000/60000 (33%)]\t1.802692\n",
      "Train Epoch: 1 [22000/60000 (37%)]\t1.730210\n",
      "Train Epoch: 1 [24000/60000 (40%)]\t1.720422\n",
      "Train Epoch: 1 [26000/60000 (43%)]\t1.761219\n",
      "Train Epoch: 1 [28000/60000 (47%)]\t1.730618\n",
      "Train Epoch: 1 [30000/60000 (50%)]\t1.761922\n",
      "Train Epoch: 1 [32000/60000 (53%)]\t1.711973\n",
      "Train Epoch: 1 [34000/60000 (57%)]\t1.752469\n",
      "Train Epoch: 1 [36000/60000 (60%)]\t1.690546\n",
      "Train Epoch: 1 [38000/60000 (63%)]\t1.647815\n",
      "Train Epoch: 1 [40000/60000 (67%)]\t1.680910\n",
      "Train Epoch: 1 [42000/60000 (70%)]\t1.677477\n",
      "Train Epoch: 1 [44000/60000 (73%)]\t1.765845\n",
      "Train Epoch: 1 [46000/60000 (77%)]\t1.650202\n",
      "Train Epoch: 1 [48000/60000 (80%)]\t1.665172\n",
      "Train Epoch: 1 [50000/60000 (83%)]\t1.651337\n",
      "Train Epoch: 1 [52000/60000 (87%)]\t1.714851\n",
      "Train Epoch: 1 [54000/60000 (90%)]\t1.693051\n",
      "Train Epoch: 1 [56000/60000 (93%)]\t1.753333\n",
      "Train Epoch: 1 [58000/60000 (97%)]\t1.716178\n",
      "\n",
      "Test set: Average loss: 0.0155, Accuracy: 9103/10000 (91%)\n",
      "\n",
      "Train Epoch: 2 [0/60000 (0%)]\t1.706477\n",
      "Train Epoch: 2 [2000/60000 (3%)]\t1.651712\n",
      "Train Epoch: 2 [4000/60000 (7%)]\t1.704040\n",
      "Train Epoch: 2 [6000/60000 (10%)]\t1.618664\n",
      "Train Epoch: 2 [8000/60000 (13%)]\t1.672218\n",
      "Train Epoch: 2 [10000/60000 (17%)]\t1.681565\n",
      "Train Epoch: 2 [12000/60000 (20%)]\t1.733366\n",
      "Train Epoch: 2 [14000/60000 (23%)]\t1.735692\n",
      "Train Epoch: 2 [16000/60000 (27%)]\t1.661019\n",
      "Train Epoch: 2 [18000/60000 (30%)]\t1.582158\n",
      "Train Epoch: 2 [20000/60000 (33%)]\t1.718529\n",
      "Train Epoch: 2 [22000/60000 (37%)]\t1.658767\n",
      "Train Epoch: 2 [24000/60000 (40%)]\t1.673793\n",
      "Train Epoch: 2 [26000/60000 (43%)]\t1.682315\n",
      "Train Epoch: 2 [28000/60000 (47%)]\t1.722786\n",
      "Train Epoch: 2 [30000/60000 (50%)]\t1.690155\n",
      "Train Epoch: 2 [32000/60000 (53%)]\t1.741994\n",
      "Train Epoch: 2 [34000/60000 (57%)]\t1.651102\n",
      "Train Epoch: 2 [36000/60000 (60%)]\t1.771805\n",
      "Train Epoch: 2 [38000/60000 (63%)]\t1.628659\n",
      "Train Epoch: 2 [40000/60000 (67%)]\t1.657963\n",
      "Train Epoch: 2 [42000/60000 (70%)]\t1.641130\n",
      "Train Epoch: 2 [44000/60000 (73%)]\t1.636820\n",
      "Train Epoch: 2 [46000/60000 (77%)]\t1.700937\n",
      "Train Epoch: 2 [48000/60000 (80%)]\t1.681184\n",
      "Train Epoch: 2 [50000/60000 (83%)]\t1.654896\n",
      "Train Epoch: 2 [52000/60000 (87%)]\t1.700042\n",
      "Train Epoch: 2 [54000/60000 (90%)]\t1.691149\n",
      "Train Epoch: 2 [56000/60000 (93%)]\t1.701996\n",
      "Train Epoch: 2 [58000/60000 (97%)]\t1.691799\n",
      "\n",
      "Test set: Average loss: 0.0153, Accuracy: 9268/10000 (93%)\n",
      "\n",
      "Train Epoch: 3 [0/60000 (0%)]\t1.693148\n",
      "Train Epoch: 3 [2000/60000 (3%)]\t1.711511\n",
      "Train Epoch: 3 [4000/60000 (7%)]\t1.644273\n",
      "Train Epoch: 3 [6000/60000 (10%)]\t1.650882\n",
      "Train Epoch: 3 [8000/60000 (13%)]\t1.652529\n",
      "Train Epoch: 3 [10000/60000 (17%)]\t1.721241\n",
      "Train Epoch: 3 [12000/60000 (20%)]\t1.656206\n",
      "Train Epoch: 3 [14000/60000 (23%)]\t1.651148\n",
      "Train Epoch: 3 [16000/60000 (27%)]\t1.671116\n",
      "Train Epoch: 3 [18000/60000 (30%)]\t1.750957\n",
      "Train Epoch: 3 [20000/60000 (33%)]\t1.698226\n",
      "Train Epoch: 3 [22000/60000 (37%)]\t1.759064\n",
      "Train Epoch: 3 [24000/60000 (40%)]\t1.720652\n",
      "Train Epoch: 3 [26000/60000 (43%)]\t1.682302\n",
      "Train Epoch: 3 [28000/60000 (47%)]\t1.679364\n",
      "Train Epoch: 3 [30000/60000 (50%)]\t1.682932\n",
      "Train Epoch: 3 [32000/60000 (53%)]\t1.667518\n",
      "Train Epoch: 3 [34000/60000 (57%)]\t1.740672\n",
      "Train Epoch: 3 [36000/60000 (60%)]\t1.728696\n",
      "Train Epoch: 3 [38000/60000 (63%)]\t1.711859\n",
      "Train Epoch: 3 [40000/60000 (67%)]\t1.679696\n",
      "Train Epoch: 3 [42000/60000 (70%)]\t1.700171\n",
      "Train Epoch: 3 [44000/60000 (73%)]\t1.828528\n",
      "Train Epoch: 3 [46000/60000 (77%)]\t1.701270\n",
      "Train Epoch: 3 [48000/60000 (80%)]\t1.751096\n",
      "Train Epoch: 3 [50000/60000 (83%)]\t1.678432\n",
      "Train Epoch: 3 [52000/60000 (87%)]\t1.679679\n",
      "Train Epoch: 3 [54000/60000 (90%)]\t1.693725\n",
      "Train Epoch: 3 [56000/60000 (93%)]\t1.721156\n",
      "Train Epoch: 3 [58000/60000 (97%)]\t1.641161\n",
      "\n",
      "Test set: Average loss: 0.0154, Accuracy: 9192/10000 (92%)\n",
      "\n",
      "Train Epoch: 4 [0/60000 (0%)]\t1.681032\n",
      "Train Epoch: 4 [2000/60000 (3%)]\t1.741148\n",
      "Train Epoch: 4 [4000/60000 (7%)]\t1.710463\n",
      "Train Epoch: 4 [6000/60000 (10%)]\t1.825934\n",
      "Train Epoch: 4 [8000/60000 (13%)]\t1.739575\n",
      "Train Epoch: 4 [10000/60000 (17%)]\t1.741080\n",
      "Train Epoch: 4 [12000/60000 (20%)]\t1.758689\n",
      "Train Epoch: 4 [14000/60000 (23%)]\t1.717289\n",
      "Train Epoch: 4 [16000/60000 (27%)]\t1.771018\n",
      "Train Epoch: 4 [18000/60000 (30%)]\t1.621151\n",
      "Train Epoch: 4 [20000/60000 (33%)]\t1.771072\n",
      "Train Epoch: 4 [22000/60000 (37%)]\t1.821609\n",
      "Train Epoch: 4 [24000/60000 (40%)]\t1.671155\n",
      "Train Epoch: 4 [26000/60000 (43%)]\t1.691150\n",
      "Train Epoch: 4 [28000/60000 (47%)]\t1.770358\n",
      "Train Epoch: 4 [30000/60000 (50%)]\t1.660677\n",
      "Train Epoch: 4 [32000/60000 (53%)]\t1.721146\n",
      "Train Epoch: 4 [34000/60000 (57%)]\t1.680439\n",
      "Train Epoch: 4 [36000/60000 (60%)]\t1.649179\n",
      "Train Epoch: 4 [38000/60000 (63%)]\t1.716337\n",
      "Train Epoch: 4 [40000/60000 (67%)]\t1.700976\n",
      "Train Epoch: 4 [42000/60000 (70%)]\t1.631150\n",
      "Train Epoch: 4 [44000/60000 (73%)]\t1.751080\n",
      "Train Epoch: 4 [46000/60000 (77%)]\t1.816439\n",
      "Train Epoch: 4 [48000/60000 (80%)]\t1.829823\n",
      "Train Epoch: 4 [50000/60000 (83%)]\t1.729901\n",
      "Train Epoch: 4 [52000/60000 (87%)]\t1.810729\n",
      "Train Epoch: 4 [54000/60000 (90%)]\t1.785437\n",
      "Train Epoch: 4 [56000/60000 (93%)]\t1.761152\n",
      "Train Epoch: 4 [58000/60000 (97%)]\t1.751151\n",
      "\n",
      "Test set: Average loss: 0.0159, Accuracy: 8664/10000 (87%)\n",
      "\n",
      "Train Epoch: 5 [0/60000 (0%)]\t1.721806\n",
      "Train Epoch: 5 [2000/60000 (3%)]\t1.741134\n",
      "Train Epoch: 5 [4000/60000 (7%)]\t1.800891\n",
      "Train Epoch: 5 [6000/60000 (10%)]\t1.711151\n",
      "Train Epoch: 5 [8000/60000 (13%)]\t1.688160\n",
      "Train Epoch: 5 [10000/60000 (17%)]\t1.760827\n",
      "Train Epoch: 5 [12000/60000 (20%)]\t1.721151\n",
      "Train Epoch: 5 [14000/60000 (23%)]\t1.742055\n",
      "Train Epoch: 5 [16000/60000 (27%)]\t1.691144\n",
      "Train Epoch: 5 [18000/60000 (30%)]\t1.691151\n",
      "Train Epoch: 5 [20000/60000 (33%)]\t1.650617\n",
      "Train Epoch: 5 [22000/60000 (37%)]\t1.801160\n",
      "Train Epoch: 5 [24000/60000 (40%)]\t1.721151\n",
      "Train Epoch: 5 [26000/60000 (43%)]\t1.661080\n",
      "Train Epoch: 5 [28000/60000 (47%)]\t1.652429\n",
      "Train Epoch: 5 [30000/60000 (50%)]\t1.770528\n",
      "Train Epoch: 5 [32000/60000 (53%)]\t1.761146\n",
      "Train Epoch: 5 [34000/60000 (57%)]\t1.678818\n",
      "Train Epoch: 5 [36000/60000 (60%)]\t1.722919\n",
      "Train Epoch: 5 [38000/60000 (63%)]\t1.763530\n",
      "Train Epoch: 5 [40000/60000 (67%)]\t1.861064\n",
      "Train Epoch: 5 [42000/60000 (70%)]\t1.731151\n",
      "Train Epoch: 5 [44000/60000 (73%)]\t1.711151\n",
      "Train Epoch: 5 [46000/60000 (77%)]\t1.770861\n",
      "Train Epoch: 5 [48000/60000 (80%)]\t1.721151\n",
      "Train Epoch: 5 [50000/60000 (83%)]\t1.753455\n",
      "Train Epoch: 5 [52000/60000 (87%)]\t1.721152\n",
      "Train Epoch: 5 [54000/60000 (90%)]\t1.781151\n",
      "Train Epoch: 5 [56000/60000 (93%)]\t1.711151\n",
      "Train Epoch: 5 [58000/60000 (97%)]\t1.761151\n",
      "\n",
      "Test set: Average loss: 0.0156, Accuracy: 9033/10000 (90%)\n",
      "\n",
      "Train Epoch: 6 [0/60000 (0%)]\t1.691151\n",
      "Train Epoch: 6 [2000/60000 (3%)]\t1.701151\n",
      "Train Epoch: 6 [4000/60000 (7%)]\t1.640631\n",
      "Train Epoch: 6 [6000/60000 (10%)]\t1.691151\n",
      "Train Epoch: 6 [8000/60000 (13%)]\t1.691002\n",
      "Train Epoch: 6 [10000/60000 (17%)]\t1.691181\n",
      "Train Epoch: 6 [12000/60000 (20%)]\t1.829649\n",
      "Train Epoch: 6 [14000/60000 (23%)]\t1.761150\n",
      "Train Epoch: 6 [16000/60000 (27%)]\t1.771307\n",
      "Train Epoch: 6 [18000/60000 (30%)]\t1.705094\n",
      "Train Epoch: 6 [20000/60000 (33%)]\t1.661146\n",
      "Train Epoch: 6 [22000/60000 (37%)]\t1.696353\n",
      "Train Epoch: 6 [24000/60000 (40%)]\t1.710805\n",
      "Train Epoch: 6 [26000/60000 (43%)]\t1.721151\n",
      "Train Epoch: 6 [28000/60000 (47%)]\t1.702917\n",
      "Train Epoch: 6 [30000/60000 (50%)]\t1.641151\n",
      "Train Epoch: 6 [32000/60000 (53%)]\t1.691121\n",
      "Train Epoch: 6 [34000/60000 (57%)]\t1.691173\n",
      "Train Epoch: 6 [36000/60000 (60%)]\t1.671058\n",
      "Train Epoch: 6 [38000/60000 (63%)]\t1.731151\n",
      "Train Epoch: 6 [40000/60000 (67%)]\t1.641151\n",
      "Train Epoch: 6 [42000/60000 (70%)]\t1.721151\n",
      "Train Epoch: 6 [44000/60000 (73%)]\t1.811151\n",
      "Train Epoch: 6 [46000/60000 (77%)]\t1.681151\n",
      "Train Epoch: 6 [48000/60000 (80%)]\t1.720900\n",
      "Train Epoch: 6 [50000/60000 (83%)]\t1.718138\n",
      "Train Epoch: 6 [52000/60000 (87%)]\t1.709668\n",
      "Train Epoch: 6 [54000/60000 (90%)]\t1.691086\n",
      "Train Epoch: 6 [56000/60000 (93%)]\t1.671151\n",
      "Train Epoch: 6 [58000/60000 (97%)]\t1.641151\n",
      "\n",
      "Test set: Average loss: 0.0157, Accuracy: 8926/10000 (89%)\n",
      "\n",
      "Train Epoch: 7 [0/60000 (0%)]\t1.731151\n",
      "Train Epoch: 7 [2000/60000 (3%)]\t1.751150\n",
      "Train Epoch: 7 [4000/60000 (7%)]\t1.671151\n",
      "Train Epoch: 7 [6000/60000 (10%)]\t1.711151\n",
      "Train Epoch: 7 [8000/60000 (13%)]\t1.601153\n",
      "Train Epoch: 7 [10000/60000 (17%)]\t1.681151\n",
      "Train Epoch: 7 [12000/60000 (20%)]\t1.711151\n",
      "Train Epoch: 7 [14000/60000 (23%)]\t1.781065\n",
      "Train Epoch: 7 [16000/60000 (27%)]\t1.701151\n",
      "Train Epoch: 7 [18000/60000 (30%)]\t1.711151\n",
      "Train Epoch: 7 [20000/60000 (33%)]\t1.691147\n",
      "Train Epoch: 7 [22000/60000 (37%)]\t1.741166\n",
      "Train Epoch: 7 [24000/60000 (40%)]\t1.681345\n",
      "Train Epoch: 7 [26000/60000 (43%)]\t1.759601\n",
      "Train Epoch: 7 [28000/60000 (47%)]\t1.681352\n",
      "Train Epoch: 7 [30000/60000 (50%)]\t1.681151\n",
      "Train Epoch: 7 [32000/60000 (53%)]\t1.661151\n",
      "Train Epoch: 7 [34000/60000 (57%)]\t1.780872\n",
      "Train Epoch: 7 [36000/60000 (60%)]\t1.661150\n",
      "Train Epoch: 7 [38000/60000 (63%)]\t1.831153\n",
      "Train Epoch: 7 [40000/60000 (67%)]\t1.711080\n",
      "Train Epoch: 7 [42000/60000 (70%)]\t1.641151\n",
      "Train Epoch: 7 [44000/60000 (73%)]\t1.741150\n",
      "Train Epoch: 7 [46000/60000 (77%)]\t1.751153\n",
      "Train Epoch: 7 [48000/60000 (80%)]\t1.721255\n",
      "Train Epoch: 7 [50000/60000 (83%)]\t1.741130\n",
      "Train Epoch: 7 [52000/60000 (87%)]\t1.691150\n",
      "Train Epoch: 7 [54000/60000 (90%)]\t1.811029\n",
      "Train Epoch: 7 [56000/60000 (93%)]\t1.881168\n",
      "Train Epoch: 7 [58000/60000 (97%)]\t1.741151\n",
      "\n",
      "Test set: Average loss: 0.0161, Accuracy: 8548/10000 (85%)\n",
      "\n",
      "Train Epoch: 8 [0/60000 (0%)]\t1.741153\n",
      "Train Epoch: 8 [2000/60000 (3%)]\t1.792500\n",
      "Train Epoch: 8 [4000/60000 (7%)]\t1.731151\n",
      "Train Epoch: 8 [6000/60000 (10%)]\t1.741079\n",
      "Train Epoch: 8 [8000/60000 (13%)]\t1.701151\n",
      "Train Epoch: 8 [10000/60000 (17%)]\t1.701151\n",
      "Train Epoch: 8 [12000/60000 (20%)]\t1.691151\n",
      "Train Epoch: 8 [14000/60000 (23%)]\t1.761151\n",
      "Train Epoch: 8 [16000/60000 (27%)]\t1.741068\n",
      "Train Epoch: 8 [18000/60000 (30%)]\t1.721151\n",
      "Train Epoch: 8 [20000/60000 (33%)]\t1.861151\n",
      "Train Epoch: 8 [22000/60000 (37%)]\t1.651453\n",
      "Train Epoch: 8 [24000/60000 (40%)]\t1.701364\n",
      "Train Epoch: 8 [26000/60000 (43%)]\t1.691151\n",
      "Train Epoch: 8 [28000/60000 (47%)]\t1.661132\n",
      "Train Epoch: 8 [30000/60000 (50%)]\t1.771151\n",
      "Train Epoch: 8 [32000/60000 (53%)]\t1.691151\n",
      "Train Epoch: 8 [34000/60000 (57%)]\t1.791150\n",
      "Train Epoch: 8 [36000/60000 (60%)]\t1.683076\n",
      "Train Epoch: 8 [38000/60000 (63%)]\t1.791023\n",
      "Train Epoch: 8 [40000/60000 (67%)]\t1.701149\n",
      "Train Epoch: 8 [42000/60000 (70%)]\t1.721245\n",
      "Train Epoch: 8 [44000/60000 (73%)]\t1.721145\n",
      "Train Epoch: 8 [46000/60000 (77%)]\t1.661151\n",
      "Train Epoch: 8 [48000/60000 (80%)]\t1.664947\n",
      "Train Epoch: 8 [50000/60000 (83%)]\t1.741148\n",
      "Train Epoch: 8 [52000/60000 (87%)]\t1.691151\n",
      "Train Epoch: 8 [54000/60000 (90%)]\t1.720346\n",
      "Train Epoch: 8 [56000/60000 (93%)]\t1.671151\n",
      "Train Epoch: 8 [58000/60000 (97%)]\t1.651155\n",
      "\n",
      "Test set: Average loss: 0.0157, Accuracy: 8960/10000 (90%)\n",
      "\n",
      "Train Epoch: 9 [0/60000 (0%)]\t1.791151\n",
      "Train Epoch: 9 [2000/60000 (3%)]\t1.751151\n",
      "Train Epoch: 9 [4000/60000 (7%)]\t1.751151\n",
      "Train Epoch: 9 [6000/60000 (10%)]\t1.811151\n",
      "Train Epoch: 9 [8000/60000 (13%)]\t1.821206\n",
      "Train Epoch: 9 [10000/60000 (17%)]\t1.771151\n",
      "Train Epoch: 9 [12000/60000 (20%)]\t1.901247\n",
      "Train Epoch: 9 [14000/60000 (23%)]\t1.791151\n",
      "Train Epoch: 9 [16000/60000 (27%)]\t1.810296\n",
      "Train Epoch: 9 [18000/60000 (30%)]\t1.661150\n",
      "Train Epoch: 9 [20000/60000 (33%)]\t1.690194\n",
      "Train Epoch: 9 [22000/60000 (37%)]\t1.821151\n",
      "Train Epoch: 9 [24000/60000 (40%)]\t1.791151\n",
      "Train Epoch: 9 [26000/60000 (43%)]\t1.761151\n",
      "Train Epoch: 9 [28000/60000 (47%)]\t1.701151\n",
      "Train Epoch: 9 [30000/60000 (50%)]\t1.631151\n",
      "Train Epoch: 9 [32000/60000 (53%)]\t1.711151\n",
      "Train Epoch: 9 [34000/60000 (57%)]\t1.801131\n",
      "Train Epoch: 9 [36000/60000 (60%)]\t1.771151\n",
      "Train Epoch: 9 [38000/60000 (63%)]\t1.881151\n",
      "Train Epoch: 9 [40000/60000 (67%)]\t1.831151\n",
      "Train Epoch: 9 [42000/60000 (70%)]\t1.761151\n",
      "Train Epoch: 9 [44000/60000 (73%)]\t1.871151\n",
      "Train Epoch: 9 [46000/60000 (77%)]\t1.883537\n",
      "Train Epoch: 9 [48000/60000 (80%)]\t1.751151\n",
      "Train Epoch: 9 [50000/60000 (83%)]\t1.800645\n",
      "Train Epoch: 9 [52000/60000 (87%)]\t1.811151\n",
      "Train Epoch: 9 [54000/60000 (90%)]\t1.861151\n",
      "Train Epoch: 9 [56000/60000 (93%)]\t1.833157\n",
      "Train Epoch: 9 [58000/60000 (97%)]\t1.781151\n",
      "\n",
      "Test set: Average loss: 0.0161, Accuracy: 8488/10000 (85%)\n",
      "\n",
      "Train Epoch: 10 [0/60000 (0%)]\t1.850147\n",
      "Train Epoch: 10 [2000/60000 (3%)]\t1.791151\n",
      "Train Epoch: 10 [4000/60000 (7%)]\t1.761151\n",
      "Train Epoch: 10 [6000/60000 (10%)]\t1.811151\n",
      "Train Epoch: 10 [8000/60000 (13%)]\t1.761151\n",
      "Train Epoch: 10 [10000/60000 (17%)]\t1.811151\n",
      "Train Epoch: 10 [12000/60000 (20%)]\t1.751151\n",
      "Train Epoch: 10 [14000/60000 (23%)]\t1.710414\n",
      "Train Epoch: 10 [16000/60000 (27%)]\t1.674811\n",
      "Train Epoch: 10 [18000/60000 (30%)]\t1.731151\n",
      "Train Epoch: 10 [20000/60000 (33%)]\t1.721151\n",
      "Train Epoch: 10 [22000/60000 (37%)]\t1.731151\n",
      "Train Epoch: 10 [24000/60000 (40%)]\t1.661151\n",
      "Train Epoch: 10 [26000/60000 (43%)]\t1.671151\n",
      "Train Epoch: 10 [28000/60000 (47%)]\t1.751145\n",
      "Train Epoch: 10 [30000/60000 (50%)]\t1.731152\n",
      "Train Epoch: 10 [32000/60000 (53%)]\t1.679445\n",
      "Train Epoch: 10 [34000/60000 (57%)]\t1.691126\n",
      "Train Epoch: 10 [36000/60000 (60%)]\t1.710679\n",
      "Train Epoch: 10 [38000/60000 (63%)]\t1.705754\n",
      "Train Epoch: 10 [40000/60000 (67%)]\t1.691151\n",
      "Train Epoch: 10 [42000/60000 (70%)]\t1.661151\n",
      "Train Epoch: 10 [44000/60000 (73%)]\t1.691164\n",
      "Train Epoch: 10 [46000/60000 (77%)]\t1.741151\n",
      "Train Epoch: 10 [48000/60000 (80%)]\t1.671152\n",
      "Train Epoch: 10 [50000/60000 (83%)]\t1.681151\n",
      "Train Epoch: 10 [52000/60000 (87%)]\t1.701151\n",
      "Train Epoch: 10 [54000/60000 (90%)]\t1.711151\n",
      "Train Epoch: 10 [56000/60000 (93%)]\t1.651151\n",
      "Train Epoch: 10 [58000/60000 (97%)]\t1.660467\n",
      "\n",
      "Test set: Average loss: 0.0155, Accuracy: 9125/10000 (91%)\n",
      "\n"
     ]
    }
   ],
   "source": [
    "\n",
    "for epoch in range(1, 11):\n",
    "    train(epoch)\n",
    "    test()\n"
   ]
  },
  {
   "cell_type": "code",
   "execution_count": 11,
   "id": "a23fa216",
   "metadata": {
    "execution": {
     "iopub.execute_input": "2023-11-13T11:31:24.913389Z",
     "iopub.status.busy": "2023-11-13T11:31:24.912568Z",
     "iopub.status.idle": "2023-11-13T11:31:26.074975Z",
     "shell.execute_reply": "2023-11-13T11:31:26.074076Z"
    },
    "papermill": {
     "duration": 1.194693,
     "end_time": "2023-11-13T11:31:26.076929",
     "exception": false,
     "start_time": "2023-11-13T11:31:24.882236",
     "status": "completed"
    },
    "tags": []
   },
   "outputs": [
    {
     "name": "stdout",
     "output_type": "stream",
     "text": [
      "Prediction: 0, True Value: 0\n"
     ]
    },
    {
     "name": "stderr",
     "output_type": "stream",
     "text": [
      "/tmp/ipykernel_27/949544416.py:16: UserWarning: Implicit dimension choice for softmax has been deprecated. Change the call to include dim=X as an argument.\n",
      "  return F.softmax(x)\n"
     ]
    },
    {
     "data": {
      "image/png": "[encoded data removed]",
      "text/plain": [
       "<Figure size 640x480 with 1 Axes>"
      ]
     },
     "metadata": {},
     "output_type": "display_data"
    },
    {
     "name": "stdout",
     "output_type": "stream",
     "text": [
      "Prediction: 9, True Value: 9\n"
     ]
    },
    {
     "data": {
      "image/png": "[encoded data removed]",
      "text/plain": [
       "<Figure size 640x480 with 1 Axes>"
      ]
     },
     "metadata": {},
     "output_type": "display_data"
    },
    {
     "name": "stdout",
     "output_type": "stream",
     "text": [
      "Prediction: 4, True Value: 4\n"
     ]
    },
    {
     "data": {
      "image/png": "[encoded data removed]",
      "text/plain": [
       "<Figure size 640x480 with 1 Axes>"
      ]
     },
     "metadata": {},
     "output_type": "display_data"
    },
    {
     "name": "stdout",
     "output_type": "stream",
     "text": [
      "Prediction: 4, True Value: 4\n"
     ]
    },
    {
     "data": {
      "image/png": "[encoded data removed]",
      "text/plain": [
       "<Figure size 640x480 with 1 Axes>"
      ]
     },
     "metadata": {},
     "output_type": "display_data"
    },
    {
     "name": "stdout",
     "output_type": "stream",
     "text": [
      "Prediction: 2, True Value: 2\n"
     ]
    },
    {
     "data": {
      "image/png": "[encoded data removed]",
      "text/plain": [
       "<Figure size 640x480 with 1 Axes>"
      ]
     },
     "metadata": {},
     "output_type": "display_data"
    }
   ],
   "source": [
    "import matplotlib.pyplot as plt\n",
    "model.eval()\n",
    "for _ in range(5):\n",
    "    r_index = random.randint(0, len(test_d) - 1)\n",
    "    data, target = test_d[r_index]\n",
    "    data = data.unsqueeze(0).to(device)\n",
    "    output = model(data)\n",
    "    prediction = output.argmax(dim=1, keepdim=True).item()\n",
    "    label = target\n",
    "\n",
    "    print(f'Prediction: {prediction}, True Value: {label}')\n",
    "    image = data.squeeze(0).squeeze(0).cpu().numpy()\n",
    "    plt.imshow(image, cmap='gray')\n",
    "    plt.show()\n",
    "\n"
   ]
  }
 ],
 "metadata": {
  "kernelspec": {
   "display_name": "Python 3",
   "language": "python",
   "name": "python3"
  },
  "language_info": {
   "codemirror_mode": {
    "name": "ipython",
    "version": 3
   },
   "file_extension": ".py",
   "mimetype": "text/x-python",
   "name": "python",
   "nbconvert_exporter": "python",
   "pygments_lexer": "ipython3",
   "version": "3.10.12"
  },
  "papermill": {
   "default_parameters": {},
   "duration": 115.546449,
   "end_time": "2023-11-13T11:31:28.561067",
   "environment_variables": {},
   "exception": null,
   "input_path": "__notebook__.ipynb",
   "output_path": "__notebook__.ipynb",
   "parameters": {},
   "start_time": "2023-11-13T11:29:33.014618",
   "version": "2.4.0"
  }
 },
 "nbformat": 4,
 "nbformat_minor": 5
}
